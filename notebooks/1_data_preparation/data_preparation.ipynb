{
 "cells": [
  {
   "attachments": {},
   "cell_type": "markdown",
   "id": "20203c0f",
   "metadata": {},
   "source": [
    "# I. Project Team Members"
   ]
  },
  {
   "attachments": {},
   "cell_type": "markdown",
   "id": "0aa3d7f4",
   "metadata": {},
   "source": [
    "| Prepared by | Email | Prepared for |\n",
    "| :-: | :-: | :-: |\n",
    "| **Hardefa Rogonondo** | hardefarogonondo@gmail.com | **Erasmus Scholarship Grant Prediction Engine** |"
   ]
  },
  {
   "attachments": {},
   "cell_type": "markdown",
   "id": "b05cd469",
   "metadata": {},
   "source": [
    "# II. Notebook Target Definition"
   ]
  },
  {
   "attachments": {},
   "cell_type": "markdown",
   "id": "47bae1d2",
   "metadata": {},
   "source": [
    "This notebook is dedicated to the data preparation phase of the Erasmus Scholarship Grant Prediction Engine Project. Here, we process the raw data acquired from Kaggle by inspecting its shape, information, and data definitions. We then segregate the features to be used as predictors from the labels. Finally, the prepared datasets are exported to pickle files for subsequent use in the prediction engine."
   ]
  },
  {
   "attachments": {},
   "cell_type": "markdown",
   "id": "3213f42d",
   "metadata": {},
   "source": [
    "# III. Notebook Setup"
   ]
  },
  {
   "attachments": {},
   "cell_type": "markdown",
   "id": "bb5c3810",
   "metadata": {},
   "source": [
    "## III.A. Import Libraries"
   ]
  },
  {
   "cell_type": "code",
   "execution_count": 1,
   "id": "ac84c896",
   "metadata": {},
   "outputs": [],
   "source": [
    "import pandas as pd\n",
    "import pickle\n",
    "\n",
    "pd.set_option('display.max_columns', None)\n",
    "pd.set_option('display.max_rows', None)"
   ]
  },
  {
   "attachments": {},
   "cell_type": "markdown",
   "id": "7291e85b",
   "metadata": {},
   "source": [
    "## III.B. Import Data"
   ]
  },
  {
   "cell_type": "code",
   "execution_count": 2,
   "id": "2f425995",
   "metadata": {},
   "outputs": [
    {
     "data": {
      "text/html": [
       "<div>\n",
       "<style scoped>\n",
       "    .dataframe tbody tr th:only-of-type {\n",
       "        vertical-align: middle;\n",
       "    }\n",
       "\n",
       "    .dataframe tbody tr th {\n",
       "        vertical-align: top;\n",
       "    }\n",
       "\n",
       "    .dataframe thead th {\n",
       "        text-align: right;\n",
       "    }\n",
       "</style>\n",
       "<table border=\"1\" class=\"dataframe\">\n",
       "  <thead>\n",
       "    <tr style=\"text-align: right;\">\n",
       "      <th></th>\n",
       "      <th>INDEX</th>\n",
       "      <th>COUNTRIES</th>\n",
       "      <th>UNIVERSITIES</th>\n",
       "      <th>FACULTIES</th>\n",
       "      <th>DEPARTMENTS</th>\n",
       "      <th>EXAM SCORE</th>\n",
       "      <th>GRANT</th>\n",
       "    </tr>\n",
       "  </thead>\n",
       "  <tbody>\n",
       "    <tr>\n",
       "      <th>0</th>\n",
       "      <td>1</td>\n",
       "      <td>ITALIA</td>\n",
       "      <td>UNIVERSITA DEGLI STUDI DI ROMA LA SAPIENZA</td>\n",
       "      <td>FACULTY OF ARTS AND SCIENCES</td>\n",
       "      <td>ENGLISH LANGUAGE AND LITERATURE</td>\n",
       "      <td>98.50</td>\n",
       "      <td>1</td>\n",
       "    </tr>\n",
       "    <tr>\n",
       "      <th>1</th>\n",
       "      <td>2</td>\n",
       "      <td>ITALIA</td>\n",
       "      <td>ALMA MATER STUDIORUM - UNIVERSITA DI BOLOGNA</td>\n",
       "      <td>FACULTY OF ARTS AND SCIENCES</td>\n",
       "      <td>SOCIOLOGY</td>\n",
       "      <td>97.10</td>\n",
       "      <td>1</td>\n",
       "    </tr>\n",
       "    <tr>\n",
       "      <th>2</th>\n",
       "      <td>3</td>\n",
       "      <td>GERMAN</td>\n",
       "      <td>UNIVERSITAET BIELEFELD</td>\n",
       "      <td>FACULTY OF ARTS AND SCIENCES</td>\n",
       "      <td>PSYCHOLOGY</td>\n",
       "      <td>96.80</td>\n",
       "      <td>1</td>\n",
       "    </tr>\n",
       "    <tr>\n",
       "      <th>3</th>\n",
       "      <td>4</td>\n",
       "      <td>GERMAN</td>\n",
       "      <td>HOCHSCHULE FUR ANGEWANDTE WISSENSCHAFTEN HAMBURG</td>\n",
       "      <td>FACULTY OF HEALTH SCIENCES</td>\n",
       "      <td>NUTRITION AND DIETETICS</td>\n",
       "      <td>96.50</td>\n",
       "      <td>1</td>\n",
       "    </tr>\n",
       "    <tr>\n",
       "      <th>4</th>\n",
       "      <td>5</td>\n",
       "      <td>ITALIA</td>\n",
       "      <td>UNIVERSITA DEGLI STUDI DI ROMA LA SAPIENZA</td>\n",
       "      <td>FACULTY OF ARTS AND SCIENCES</td>\n",
       "      <td>ENGLISH LANGUAGE AND LITERATURE</td>\n",
       "      <td>96.32</td>\n",
       "      <td>1</td>\n",
       "    </tr>\n",
       "  </tbody>\n",
       "</table>\n",
       "</div>"
      ],
      "text/plain": [
       "   INDEX COUNTRIES                                      UNIVERSITIES  \\\n",
       "0      1    ITALIA        UNIVERSITA DEGLI STUDI DI ROMA LA SAPIENZA   \n",
       "1      2    ITALIA      ALMA MATER STUDIORUM - UNIVERSITA DI BOLOGNA   \n",
       "2      3    GERMAN                            UNIVERSITAET BIELEFELD   \n",
       "3      4    GERMAN  HOCHSCHULE FUR ANGEWANDTE WISSENSCHAFTEN HAMBURG   \n",
       "4      5    ITALIA       UNIVERSITA DEGLI STUDI DI ROMA LA SAPIENZA    \n",
       "\n",
       "                      FACULTIES                      DEPARTMENTS  EXAM SCORE  \\\n",
       "0  FACULTY OF ARTS AND SCIENCES  ENGLISH LANGUAGE AND LITERATURE       98.50   \n",
       "1  FACULTY OF ARTS AND SCIENCES                        SOCIOLOGY       97.10   \n",
       "2  FACULTY OF ARTS AND SCIENCES                       PSYCHOLOGY       96.80   \n",
       "3    FACULTY OF HEALTH SCIENCES          NUTRITION AND DIETETICS       96.50   \n",
       "4  FACULTY OF ARTS AND SCIENCES  ENGLISH LANGUAGE AND LITERATURE       96.32   \n",
       "\n",
       "   GRANT  \n",
       "0      1  \n",
       "1      1  \n",
       "2      1  \n",
       "3      1  \n",
       "4      1  "
      ]
     },
     "execution_count": 2,
     "metadata": {},
     "output_type": "execute_result"
    }
   ],
   "source": [
    "df = pd.read_csv('../../data/raw/erasmus.csv')\n",
    "df.head()"
   ]
  },
  {
   "attachments": {},
   "cell_type": "markdown",
   "id": "f59e32c9",
   "metadata": {},
   "source": [
    "# IV. Data Preparation"
   ]
  },
  {
   "attachments": {},
   "cell_type": "markdown",
   "id": "db0a5756",
   "metadata": {},
   "source": [
    "## IV.A. Data Shape Inspection"
   ]
  },
  {
   "cell_type": "code",
   "execution_count": 3,
   "id": "aad7798b",
   "metadata": {},
   "outputs": [
    {
     "data": {
      "text/plain": [
       "(341, 7)"
      ]
     },
     "execution_count": 3,
     "metadata": {},
     "output_type": "execute_result"
    }
   ],
   "source": [
    "df.shape"
   ]
  },
  {
   "attachments": {},
   "cell_type": "markdown",
   "id": "3389b1bf",
   "metadata": {},
   "source": [
    "## IV.B. Data Information Inspection"
   ]
  },
  {
   "cell_type": "code",
   "execution_count": 4,
   "id": "c6d7319a",
   "metadata": {},
   "outputs": [
    {
     "name": "stdout",
     "output_type": "stream",
     "text": [
      "<class 'pandas.core.frame.DataFrame'>\n",
      "RangeIndex: 341 entries, 0 to 340\n",
      "Data columns (total 7 columns):\n",
      " #   Column        Non-Null Count  Dtype  \n",
      "---  ------        --------------  -----  \n",
      " 0   INDEX         341 non-null    int64  \n",
      " 1   COUNTRIES     341 non-null    object \n",
      " 2   UNIVERSITIES  341 non-null    object \n",
      " 3   FACULTIES     341 non-null    object \n",
      " 4   DEPARTMENTS   339 non-null    object \n",
      " 5   EXAM SCORE    341 non-null    float64\n",
      " 6   GRANT         341 non-null    int64  \n",
      "dtypes: float64(1), int64(2), object(4)\n",
      "memory usage: 18.8+ KB\n"
     ]
    }
   ],
   "source": [
    "df.info()"
   ]
  },
  {
   "attachments": {},
   "cell_type": "markdown",
   "id": "e9ce06ea",
   "metadata": {},
   "source": [
    "## IV.C. Data Definition"
   ]
  },
  {
   "attachments": {},
   "cell_type": "markdown",
   "id": "50d58989",
   "metadata": {},
   "source": [
    "| Variables | Columns Definition |\n",
    "| :-: | :-: |\n",
    "| INDEX | Unique index number of each record. |\n",
    "| COUNTRIES | Countries to be attended under Erasmus programme. |\n",
    "| UNIVERSITIES | Universities to be attended under the Erasmus programme. |\n",
    "| FACULTIES | Faculties where the students are enrolled. |\n",
    "| DEPARTMENTS | Departments where the students are enrolled. |\n",
    "| EXAM SCORE | Students' Erasmus exam scores. |\n",
    "| GRANT | Column indicating whether the students received a grant (1: received, 0: not received). |"
   ]
  },
  {
   "attachments": {},
   "cell_type": "markdown",
   "id": "292fbbf4",
   "metadata": {},
   "source": [
    "## IV.D. Data Segregation"
   ]
  },
  {
   "cell_type": "code",
   "execution_count": 5,
   "id": "7e53a3a1",
   "metadata": {},
   "outputs": [
    {
     "data": {
      "text/plain": [
       "((341, 6), (341,))"
      ]
     },
     "execution_count": 5,
     "metadata": {},
     "output_type": "execute_result"
    }
   ],
   "source": [
    "X = df.drop(\"GRANT\", axis=1)\n",
    "y = df[\"GRANT\"]\n",
    "X.shape, y.shape"
   ]
  },
  {
   "cell_type": "code",
   "execution_count": 6,
   "id": "a57529a4",
   "metadata": {},
   "outputs": [
    {
     "data": {
      "text/html": [
       "<div>\n",
       "<style scoped>\n",
       "    .dataframe tbody tr th:only-of-type {\n",
       "        vertical-align: middle;\n",
       "    }\n",
       "\n",
       "    .dataframe tbody tr th {\n",
       "        vertical-align: top;\n",
       "    }\n",
       "\n",
       "    .dataframe thead th {\n",
       "        text-align: right;\n",
       "    }\n",
       "</style>\n",
       "<table border=\"1\" class=\"dataframe\">\n",
       "  <thead>\n",
       "    <tr style=\"text-align: right;\">\n",
       "      <th></th>\n",
       "      <th>INDEX</th>\n",
       "      <th>COUNTRIES</th>\n",
       "      <th>UNIVERSITIES</th>\n",
       "      <th>FACULTIES</th>\n",
       "      <th>DEPARTMENTS</th>\n",
       "      <th>EXAM SCORE</th>\n",
       "    </tr>\n",
       "  </thead>\n",
       "  <tbody>\n",
       "    <tr>\n",
       "      <th>0</th>\n",
       "      <td>1</td>\n",
       "      <td>ITALIA</td>\n",
       "      <td>UNIVERSITA DEGLI STUDI DI ROMA LA SAPIENZA</td>\n",
       "      <td>FACULTY OF ARTS AND SCIENCES</td>\n",
       "      <td>ENGLISH LANGUAGE AND LITERATURE</td>\n",
       "      <td>98.50</td>\n",
       "    </tr>\n",
       "    <tr>\n",
       "      <th>1</th>\n",
       "      <td>2</td>\n",
       "      <td>ITALIA</td>\n",
       "      <td>ALMA MATER STUDIORUM - UNIVERSITA DI BOLOGNA</td>\n",
       "      <td>FACULTY OF ARTS AND SCIENCES</td>\n",
       "      <td>SOCIOLOGY</td>\n",
       "      <td>97.10</td>\n",
       "    </tr>\n",
       "    <tr>\n",
       "      <th>2</th>\n",
       "      <td>3</td>\n",
       "      <td>GERMAN</td>\n",
       "      <td>UNIVERSITAET BIELEFELD</td>\n",
       "      <td>FACULTY OF ARTS AND SCIENCES</td>\n",
       "      <td>PSYCHOLOGY</td>\n",
       "      <td>96.80</td>\n",
       "    </tr>\n",
       "    <tr>\n",
       "      <th>3</th>\n",
       "      <td>4</td>\n",
       "      <td>GERMAN</td>\n",
       "      <td>HOCHSCHULE FUR ANGEWANDTE WISSENSCHAFTEN HAMBURG</td>\n",
       "      <td>FACULTY OF HEALTH SCIENCES</td>\n",
       "      <td>NUTRITION AND DIETETICS</td>\n",
       "      <td>96.50</td>\n",
       "    </tr>\n",
       "    <tr>\n",
       "      <th>4</th>\n",
       "      <td>5</td>\n",
       "      <td>ITALIA</td>\n",
       "      <td>UNIVERSITA DEGLI STUDI DI ROMA LA SAPIENZA</td>\n",
       "      <td>FACULTY OF ARTS AND SCIENCES</td>\n",
       "      <td>ENGLISH LANGUAGE AND LITERATURE</td>\n",
       "      <td>96.32</td>\n",
       "    </tr>\n",
       "  </tbody>\n",
       "</table>\n",
       "</div>"
      ],
      "text/plain": [
       "   INDEX COUNTRIES                                      UNIVERSITIES  \\\n",
       "0      1    ITALIA        UNIVERSITA DEGLI STUDI DI ROMA LA SAPIENZA   \n",
       "1      2    ITALIA      ALMA MATER STUDIORUM - UNIVERSITA DI BOLOGNA   \n",
       "2      3    GERMAN                            UNIVERSITAET BIELEFELD   \n",
       "3      4    GERMAN  HOCHSCHULE FUR ANGEWANDTE WISSENSCHAFTEN HAMBURG   \n",
       "4      5    ITALIA       UNIVERSITA DEGLI STUDI DI ROMA LA SAPIENZA    \n",
       "\n",
       "                      FACULTIES                      DEPARTMENTS  EXAM SCORE  \n",
       "0  FACULTY OF ARTS AND SCIENCES  ENGLISH LANGUAGE AND LITERATURE       98.50  \n",
       "1  FACULTY OF ARTS AND SCIENCES                        SOCIOLOGY       97.10  \n",
       "2  FACULTY OF ARTS AND SCIENCES                       PSYCHOLOGY       96.80  \n",
       "3    FACULTY OF HEALTH SCIENCES          NUTRITION AND DIETETICS       96.50  \n",
       "4  FACULTY OF ARTS AND SCIENCES  ENGLISH LANGUAGE AND LITERATURE       96.32  "
      ]
     },
     "execution_count": 6,
     "metadata": {},
     "output_type": "execute_result"
    }
   ],
   "source": [
    "X.head()"
   ]
  },
  {
   "cell_type": "code",
   "execution_count": 7,
   "id": "0e8c7028",
   "metadata": {},
   "outputs": [
    {
     "data": {
      "text/plain": [
       "0    1\n",
       "1    1\n",
       "2    1\n",
       "3    1\n",
       "4    1\n",
       "Name: GRANT, dtype: int64"
      ]
     },
     "execution_count": 7,
     "metadata": {},
     "output_type": "execute_result"
    }
   ],
   "source": [
    "y.head()"
   ]
  },
  {
   "attachments": {},
   "cell_type": "markdown",
   "id": "c5c97bd7",
   "metadata": {},
   "source": [
    "## IV.E. Export Data"
   ]
  },
  {
   "cell_type": "code",
   "execution_count": 8,
   "id": "42f61b26",
   "metadata": {},
   "outputs": [],
   "source": [
    "X.to_pickle('../../data/processed/X.pkl')\n",
    "y.to_pickle('../../data/processed/y.pkl')"
   ]
  }
 ],
 "metadata": {
  "kernelspec": {
   "display_name": "Python 3 (ipykernel)",
   "language": "python",
   "name": "python3"
  },
  "language_info": {
   "codemirror_mode": {
    "name": "ipython",
    "version": 3
   },
   "file_extension": ".py",
   "mimetype": "text/x-python",
   "name": "python",
   "nbconvert_exporter": "python",
   "pygments_lexer": "ipython3",
   "version": "3.11.9"
  }
 },
 "nbformat": 4,
 "nbformat_minor": 5
}
